{
 "cells": [
  {
   "cell_type": "code",
   "execution_count": null,
   "metadata": {
    "collapsed": true
   },
   "outputs": [],
   "source": [
    "import numpy as np\n",
    "import sys\n",
    "# the setrecursionlimit function is\n",
    "# used to modify the default recursion\n",
    "# limit set by python. Using this,\n",
    "# we can increase the recursion limit\n",
    "# to satisfy our needs\n",
    "\n",
    "sys.setrecursionlimit(10 ** 6)\n",
    "\n",
    "def partition(arr, low, high):\n",
    "    i = (low - 1)  # index of smaller element\n",
    "    pivot = arr[high]  # pivot\n",
    "    for j in range(low, high):\n",
    "        # If current element is smaller than or\n",
    "        # equal to pivot\n",
    "        if arr[j] <= pivot:\n",
    "            # increment index of smaller element\n",
    "            i = i + 1\n",
    "            arr[i], arr[j] = arr[j], arr[i]\n",
    "    arr[i + 1], arr[high] = arr[high], arr[i + 1]\n",
    "    return (i + 1)\n",
    "\n",
    "def quickSort(arr, low, high):\n",
    "    if low < high:\n",
    "        # pi is partitioning index, arr[p] is now\n",
    "        # at right place\n",
    "        pi = partition(arr, low, high)\n",
    "        # Separately sort elements before\n",
    "        # partition and after partition\n",
    "        quickSort(arr, low, pi - 1)\n",
    "        quickSort(arr, pi + 1, high)\n",
    "\n",
    "A = np.array([5,32,43,9,24,16,2,24,65,50,26,23,99,7])\n",
    "quickSort(A, 0,13)\n",
    "print(A)\n",
    "len(A)\n"
   ]
  },
  {
   "cell_type": "code",
   "execution_count": null,
   "outputs": [],
   "source": [
    "\n",
    "datalist=[]\n",
    "tmp = np.random.randint(0, 5000,1000000)\n",
    "#tmp = np.random.randint(0, 5000,1000)\n",
    "RandomNumber = tmp.copy()\n",
    "\n",
    "st = time.process_time()\n",
    "n = len(tmp)-1\n",
    "quickSort(RandomNumber,0,n)\n",
    "end = time.process_time()\n",
    "\n",
    "SortedNumber = RandomNumber.copy()\n",
    "ReverseNumber = RandomNumber[::-1].copy()\n",
    "\n",
    "DataSort = [{'Step': 'Random', 'RandomData': tmp, 'SortedData': RandomNumber,'ReverseData':ReverseNumber,'TimeTaken':(end - st)}]\n",
    "print(DataSort)\n",
    "datalist.append(DataSort)\n",
    "\n",
    "st = time.process_time()\n",
    "quickSort(SortedNumber,0,n)\n",
    "end = time.process_time()\n",
    "DataSort = [{'Step': 'Sorted', 'RandomData': tmp, 'SortedData': RandomNumber,'ReverseData':ReverseNumber,'TimeTaken':(end - st)}]\n",
    "print(DataSort)\n",
    "datalist.append(DataSort)\n",
    "\n",
    "st = time.process_time()\n",
    "quickSort(ReverseNumber,0,n)\n",
    "end = time.process_time()\n",
    "DataSort = [{'Step': 'Reverse', 'RandomData': tmp, 'SortedData': RandomNumber,'ReverseData':ReverseNumber,'TimeTaken':(end - st)}]\n",
    "print(DataSort)\n",
    "datalist.append(DataSort)\n",
    "\n",
    "print(datalist[0][0]['Step'],datalist[0][0]['TimeTaken'])\n",
    "print(datalist[0][0]['Step'],datalist[1][0]['TimeTaken'])\n",
    "print(datalist[0][0]['Step'],datalist[2][0]['TimeTaken'])"
   ],
   "metadata": {
    "collapsed": false,
    "pycharm": {
     "name": "#%%\n"
    }
   }
  }
 ],
 "metadata": {
  "kernelspec": {
   "name": "pycharm-5f98983e",
   "language": "python",
   "display_name": "PyCharm (Building-a-CNN-in-Keras-Tutorial)"
  },
  "language_info": {
   "codemirror_mode": {
    "name": "ipython",
    "version": 2
   },
   "file_extension": ".py",
   "mimetype": "text/x-python",
   "name": "python",
   "nbconvert_exporter": "python",
   "pygments_lexer": "ipython2",
   "version": "2.7.6"
  }
 },
 "nbformat": 4,
 "nbformat_minor": 0
}
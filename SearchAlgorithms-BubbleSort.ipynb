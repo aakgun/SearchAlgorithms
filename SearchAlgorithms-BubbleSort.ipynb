{
 "cells": [
  {
   "cell_type": "code",
   "execution_count": 2,
   "metadata": {
    "collapsed": true
   },
   "outputs": [
    {
     "name": "stdout",
     "output_type": "stream",
     "text": [
      "[ 2  5  9 16 24 24 26 32 43 50 65 99]\n"
     ]
    }
   ],
   "source": [
    "import numpy as np\n",
    "import time\n",
    "def BubleSort(arr):\n",
    "    sortedStatus = False\n",
    "    last = len(arr)-1\n",
    "    i=0\n",
    "    while (i < last and sortedStatus==False):\n",
    "        sortedStatus = True\n",
    "        for j in range(last,i,-1):\n",
    "            if arr[j-1] > arr[j]:\n",
    "                arr[j-1],arr[j] = arr[j],arr[j-1]\n",
    "                sortedStatus = False\n",
    "        i = i + 1\n",
    "    return (arr)\n",
    "\n",
    "A = np.array([5,32,43,9,24,16,2,24,65,50,26,99])\n",
    "BubleSort(A)\n",
    "print(A)"
   ]
  },
  {
   "cell_type": "code",
   "execution_count": null,
   "outputs": [],
   "source": [
    "\n",
    "\n",
    "\n",
    "datalist=[]\n",
    "datalist2=[]\n",
    "\n",
    "tmp = np.random.randint(0, 5000,1000000)\n",
    "tmp = np.random.randint(0, 5000,1000)\n",
    "RandomNumber = tmp.copy()\n",
    "\n",
    "st = time.process_time()\n",
    "BubleSort(RandomNumber)\n",
    "end = time.process_time()\n",
    "\n",
    "SortedNumber = RandomNumber.copy()\n",
    "ReverseNumber = RandomNumber[::-1].copy()\n",
    "\n",
    "DataSort = [{'Step': 'Random', 'RandomData': tmp, 'SortedData': RandomNumber,'ReverseData':ReverseNumber,'TimeTaken':(end - st)}]\n",
    "print(DataSort)\n",
    "datalist.append(DataSort)\n",
    "\n",
    "st = time.process_time()\n",
    "BubleSort(SortedNumber)\n",
    "end = time.process_time()\n",
    "DataSort = [{'Step': 'Sorted', 'RandomData': tmp, 'SortedData': RandomNumber,'ReverseData':ReverseNumber,'TimeTaken':(end - st)}]\n",
    "print(DataSort)\n",
    "datalist.append(DataSort)\n",
    "\n",
    "st = time.process_time()\n",
    "BubleSort(ReverseNumber)\n",
    "end = time.process_time()\n",
    "DataSort = [{'Step': 'Reverse', 'RandomData': tmp, 'SortedData': RandomNumber,'ReverseData':ReverseNumber,'TimeTaken':(end - st)}]\n",
    "print(DataSort)\n",
    "datalist.append(DataSort)\n",
    "\n",
    "print(datalist[0][0]['TimeTaken'])\n",
    "print(datalist[1][0]['TimeTaken'])\n",
    "print(datalist[2][0]['TimeTaken'])"
   ],
   "metadata": {
    "collapsed": false,
    "pycharm": {
     "name": "#%%\n"
    }
   }
  }
 ],
 "metadata": {
  "kernelspec": {
   "display_name": "Python 3",
   "language": "python",
   "name": "python3"
  },
  "language_info": {
   "codemirror_mode": {
    "name": "ipython",
    "version": 2
   },
   "file_extension": ".py",
   "mimetype": "text/x-python",
   "name": "python",
   "nbconvert_exporter": "python",
   "pygments_lexer": "ipython2",
   "version": "2.7.6"
  }
 },
 "nbformat": 4,
 "nbformat_minor": 0
}